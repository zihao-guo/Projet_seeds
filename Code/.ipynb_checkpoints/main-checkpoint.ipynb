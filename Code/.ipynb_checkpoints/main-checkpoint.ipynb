{
 "cells": [
  {
   "cell_type": "code",
   "execution_count": 1,
   "id": "5d67bff5-cbe9-4d9b-8eb0-0b3e0e2e7401",
   "metadata": {},
   "outputs": [],
   "source": [
    "import pandas as pd\n",
    "import matplotlib.pyplot as plt\n",
    "\n",
    "import numpy as np\n",
    "from scipy.special import expit # sigmoid\n",
    "from scipy.stats import norm, gamma"
   ]
  },
  {
   "cell_type": "markdown",
   "id": "66dc4c4d-aee6-4dbf-8c56-d0849d0e979b",
   "metadata": {},
   "source": [
    "### Importing data from R in csv\n",
    "- Data：\"DATA/seeds.data.R\"\n",
    "- Code:\n",
    "    - data = cbind(x1, x2, N, n)\n",
    "    - write.table(data, file = \"data_seeds.csv\")\n",
    "    \n",
    "Les données sont présentées dans le graphique："
   ]
  },
  {
   "cell_type": "markdown",
   "id": "ddd7d7d4-f33a-48b7-a7b4-0c67ea51a347",
   "metadata": {},
   "source": [
    "![jupyter](../Image/data_intro.png)"
   ]
  },
  {
   "cell_type": "markdown",
   "id": "9b48d25a-3120-4f39-a2e4-c44b2dc93c4f",
   "metadata": {},
   "source": [
    "## 1. Import the data"
   ]
  },
  {
   "cell_type": "code",
   "execution_count": 2,
   "id": "f1ac1728-4fde-4ae8-9577-715907d5e08a",
   "metadata": {},
   "outputs": [
    {
     "data": {
      "text/html": [
       "<div>\n",
       "<style scoped>\n",
       "    .dataframe tbody tr th:only-of-type {\n",
       "        vertical-align: middle;\n",
       "    }\n",
       "\n",
       "    .dataframe tbody tr th {\n",
       "        vertical-align: top;\n",
       "    }\n",
       "\n",
       "    .dataframe thead th {\n",
       "        text-align: right;\n",
       "    }\n",
       "</style>\n",
       "<table border=\"1\" class=\"dataframe\">\n",
       "  <thead>\n",
       "    <tr style=\"text-align: right;\">\n",
       "      <th></th>\n",
       "      <th>x1</th>\n",
       "      <th>x2</th>\n",
       "      <th>n</th>\n",
       "      <th>r</th>\n",
       "    </tr>\n",
       "  </thead>\n",
       "  <tbody>\n",
       "    <tr>\n",
       "      <th>1</th>\n",
       "      <td>0</td>\n",
       "      <td>0</td>\n",
       "      <td>39</td>\n",
       "      <td>10</td>\n",
       "    </tr>\n",
       "    <tr>\n",
       "      <th>2</th>\n",
       "      <td>0</td>\n",
       "      <td>0</td>\n",
       "      <td>62</td>\n",
       "      <td>23</td>\n",
       "    </tr>\n",
       "    <tr>\n",
       "      <th>3</th>\n",
       "      <td>0</td>\n",
       "      <td>0</td>\n",
       "      <td>81</td>\n",
       "      <td>23</td>\n",
       "    </tr>\n",
       "    <tr>\n",
       "      <th>4</th>\n",
       "      <td>0</td>\n",
       "      <td>0</td>\n",
       "      <td>51</td>\n",
       "      <td>26</td>\n",
       "    </tr>\n",
       "    <tr>\n",
       "      <th>5</th>\n",
       "      <td>0</td>\n",
       "      <td>0</td>\n",
       "      <td>39</td>\n",
       "      <td>17</td>\n",
       "    </tr>\n",
       "  </tbody>\n",
       "</table>\n",
       "</div>"
      ],
      "text/plain": [
       "   x1  x2   n   r\n",
       "1   0   0  39  10\n",
       "2   0   0  62  23\n",
       "3   0   0  81  23\n",
       "4   0   0  51  26\n",
       "5   0   0  39  17"
      ]
     },
     "execution_count": 2,
     "metadata": {},
     "output_type": "execute_result"
    }
   ],
   "source": [
    "data = pd.read_csv(\"../DATA/data_seeds.csv\", sep=' ')\n",
    "data = data.rename(columns={'n':'r','N':'n'}) # Keep the same as in the figure\n",
    "data.head()"
   ]
  },
  {
   "cell_type": "code",
   "execution_count": 3,
   "id": "197c2226-e588-4ff8-bc64-b3860a9b7355",
   "metadata": {},
   "outputs": [
    {
     "data": {
      "image/png": "[encoded data removed]",
      "text/plain": [
       "<Figure size 640x480 with 2 Axes>"
      ]
     },
     "metadata": {},
     "output_type": "display_data"
    }
   ],
   "source": [
    "plt.subplot(1, 2, 1)\n",
    "plt.scatter(x=data['n'].values, \n",
    "            y=data['r'].values)\n",
    "plt.plot([0, 60], [0, 60], 'r--')\n",
    "plt.xlabel('the total number of seeds')\n",
    "plt.ylabel('number of germinated')\n",
    "\n",
    "# Show germination rate\n",
    "plt.subplot(1, 2, 2)\n",
    "plt.hist(data['r'].values/data['n'].values, bins=10)\n",
    "plt.xlabel('germination rates')\n",
    "plt.ylabel('number of germinated')\n",
    "\n",
    "plt.show()"
   ]
  },
  {
   "cell_type": "code",
   "execution_count": 4,
   "id": "109cc49b-0303-44f8-8252-d9e81d5b12f9",
   "metadata": {},
   "outputs": [],
   "source": [
    "# Initialize data\n",
    "init_alpha0 = 0\n",
    "init_alpha1 = 0\n",
    "init_alpha2 = 0\n",
    "init_alpha12 = 0\n",
    "init_sigma = 1/10\n",
    "init_b = [0] * 21\n",
    "\n",
    "alpha0, alpha1, alpha2, alpha12, b, sigma = init_alpha0, init_alpha1, init_alpha2, init_alpha12, init_b, init_sigma"
   ]
  },
  {
   "cell_type": "markdown",
   "id": "407fec2a-c3ba-44e7-a477-ce52ef7a1757",
   "metadata": {},
   "source": [
    "## 2. Modeling"
   ]
  },
  {
   "cell_type": "code",
   "execution_count": 5,
   "id": "5f3c805c-aee7-4f12-87e2-0cde953d65b1",
   "metadata": {},
   "outputs": [],
   "source": [
    "x1 = data['x1'].values\n",
    "x2 = data['x2'].values\n",
    "r = data['r'].values\n",
    "n = data['n'].values"
   ]
  },
  {
   "cell_type": "code",
   "execution_count": 6,
   "id": "0c6f2f6c-253e-4620-a2ca-db7c39b9aa8d",
   "metadata": {},
   "outputs": [],
   "source": [
    "def sigmoid(x):\n",
    "    \"\"\"定义sigmoid函数\"\"\"\n",
    "    return 1 / (1 + np.exp(-x))\n",
    "\n",
    "def pdf(alpha0, alpha1, alpha2, alpha12, b, x1, x2):\n",
    "    \"\"\"定义概率密度函数pdf\"\"\"\n",
    "    return sigmoid(alpha0 + alpha1 * x1 + alpha2 * x2 + alpha12 * x1 * x2 + b)\n",
    "\n",
    "def lh(alpha0, alpha1, alpha2, alpha12, b, r, x1, x2, n, K):\n",
    "    a = 0  # 初始化似然值\n",
    "    for i in range(K):\n",
    "        a += r[i] * np.log(pdf(alpha0, alpha1, x1[i], alpha2, x2[i], alpha12, b[i])) + (n[i] - r[i]) * np.log(1 - pdf(alpha0, alpha1, x1[i], alpha2, x2[i], alpha12, b[i]))\n",
    "    return a"
   ]
  },
  {
   "cell_type": "code",
   "execution_count": 14,
   "id": "66b048fd-b1fa-4853-af09-3d47e81173b9",
   "metadata": {},
   "outputs": [],
   "source": [
    "nchain = 10000\n",
    "N = 21\n",
    "prop_sd = [0.5,0.5,0.5,0.5,0.01]"
   ]
  },
  {
   "cell_type": "code",
   "execution_count": 17,
   "id": "9ab8f4fc-ba4d-470e-8b5b-7c0409c1daf6",
   "metadata": {},
   "outputs": [],
   "source": [
    "chain = np.zeros((nchain+1,5)) # alpha0,alpha1,alpha2,alpha12,sigma\n",
    "chain_b = np.zeros((nchain+1, N))\n",
    "#Initialisation\n",
    "chain[0] = [alpha0, alpha1, alpha2, alpha12, sigma]\n",
    "chain_b[0] = init_b"
   ]
  },
  {
   "cell_type": "code",
   "execution_count": 15,
   "id": "4fb2f541-2a5c-4246-862c-6813383f6e6d",
   "metadata": {},
   "outputs": [],
   "source": [
    "for j in range(nchain):\n",
    "    chain[j+1] = chain[j]\n",
    "    alpha0,alpha1,alpha2,alpha12,sigma = chain[j+1][0], chain[j+1][1], chain[j+1][2], chain[j+1][3], chain[j+1][4]\n",
    "    \n",
    "    #Mise à jour alpha0\n",
    "    prop = alpha0 + prop_sd[0]*np.random.normal(std_dev[0]) #proposition alpha0\n",
    "    \n",
    "    top0 = -prop**2/(2*10**6) # loi a priori\n",
    "    top1 = lh(prop, alpha1, alpha2, alpha12, chain_b[j+1], r, x1, x2, n, N)\n",
    "    top = top0+top1\n",
    "    \n",
    "    bottom0 = -alpha0**2/(2*10**6) # loi a priori\n",
    "    bottom1 = lh(alpha0, alpha1, alpha2, alpha12, chain_b[j+1], r, x1, x2, n, N) #vraisemblance\n",
    "    bottom = bottom0 + bottom1\n",
    "    \n",
    "    prob = np.exp(top - bottom)\n",
    "    if np.random.uniform()<prob:\n",
    "        chain[j+1][0] = prop"
   ]
  },
  {
   "cell_type": "code",
   "execution_count": 16,
   "id": "755fab94-6a94-4c3c-b704-89eedaf5dc70",
   "metadata": {},
   "outputs": [
    {
     "data": {
      "text/plain": [
       "-0.4758123576957877"
      ]
     },
     "execution_count": 16,
     "metadata": {},
     "output_type": "execute_result"
    }
   ],
   "source": [
    "np.mean(chain[:,0])"
   ]
  },
  {
   "cell_type": "markdown",
   "id": "e48181c3-86de-4987-9580-6e602e8d5276",
   "metadata": {},
   "source": [
    "## 3. Results Visualization"
   ]
  },
  {
   "cell_type": "markdown",
   "id": "7e39f761-b787-4e70-a2e1-bfe468754434",
   "metadata": {},
   "source": [
    "## 4. Results Analysis"
   ]
  },
  {
   "cell_type": "code",
   "execution_count": null,
   "id": "e1cadf92-5667-40c1-80fc-c37f62e978d5",
   "metadata": {},
   "outputs": [],
   "source": []
  }
 ],
 "metadata": {
  "kernelspec": {
   "display_name": "Python 3 (ipykernel)",
   "language": "python",
   "name": "python3"
  },
  "language_info": {
   "codemirror_mode": {
    "name": "ipython",
    "version": 3
   },
   "file_extension": ".py",
   "mimetype": "text/x-python",
   "name": "python",
   "nbconvert_exporter": "python",
   "pygments_lexer": "ipython3",
   "version": "3.9.13"
  }
 },
 "nbformat": 4,
 "nbformat_minor": 5
}
